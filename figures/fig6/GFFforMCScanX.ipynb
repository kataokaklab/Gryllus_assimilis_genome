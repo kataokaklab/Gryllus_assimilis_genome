# Define the cultivar name
cultivar = 'Gryllus_assimilis'

# Set the paths for the input and output files
input_file = f'/home/yuki_ito/work2/Tasks/MCScanX/Jamaican_v1.1/Gryllus_assimilis.bed'
output_file = f'/home/yuki_ito/work2/Tasks/MCScanX/Jamaican_v1.1/Gryllus_assimilis.gff'

# Read the input file, transform it, and write to the output file
with open(input_file, mode='r') as inp:
    with open(output_file, mode='w') as out:
        for line in inp:
            line = line.rstrip('\n|\r|\r\n')  # Remove newline or carriage return characters
            line = line.split('\t')  # Split the line by tabs

            # Process lines where line[7] is 'mRNA' and line[0] starts with 'Super-Scaffold'
            if (line[7] == 'mRNA') and line[0].startswith('Super-Scaffold'):
                # Update the Chr column
                Chr = line[0].replace('Super-Scaffold', f'{cultivar}')
                
                # Check the length of the list and extract gene_id
                if len(line) > 8:
                    gene_id_info = line[9].split('=')
                    if len(gene_id_info) > 1:
                        gene_id = gene_id_info[1].split(';')[0]
                        start = line[1]
                        end = line[2]

                        # Output the data in the specified format
                        out.write(f'{Chr}\t{gene_id}\t{start}\t{end}\n')
                    else:
                        # Warning if unable to extract gene_id
                        print(f"Warning: Unable to split gene_id from {line[9]}")
                else:
                    # Warning if the line does not have enough fields
                    print(f"Warning: Line does not have enough fields: {line}")
            else:
                # Warning if the line does not meet the specified criteria
                print(f"Warning: Line does not meet criteria: {line}")
