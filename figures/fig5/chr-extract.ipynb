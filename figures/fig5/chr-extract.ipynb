{
 "cells": [
  {
   "cell_type": "code",
   "execution_count": null,
   "metadata": {},
   "outputs": [],
   "source": [
    "from Bio import SeqIO\n",
    "\n",
    "# Path to the input FASTA file\n",
    "input_fasta = \"/home/yuki_ito/work2/Data/Jamaican_v3/gass_v1.1.genome.sm.fasta\"\n",
    "# Path to the output FASTA file\n",
    "output_fasta = \"/home/yuki_ito/work2/Tasks/mosdepth/Jamaican_v1.1/Jamaican_chr_1-15.fasta\"\n",
    "\n",
    "# Specify the range of contigs to extract\n",
    "start_scaffold = 1\n",
    "end_scaffold = 15\n",
    "\n",
    "# List to store the extracted contigs\n",
    "extracted_contigs = []\n",
    "\n",
    "# Read the input FASTA file\n",
    "with open(input_fasta, \"r\") as infile:\n",
    "    for record in SeqIO.parse(infile, \"fasta\"):  # Parse the FASTA file using Biopython\n",
    "        header = record.id  # Get the header (ID) of the sequence\n",
    "        if header.startswith(\"Super-Scaffold_\"):  # Check if the header starts with \"Super-Scaffold_\"\n",
    "            parts = header.split(\"_\")  # Split the header by \"_\"\n",
    "            if len(parts) == 2 and parts[1].isdigit():  # Ensure the header has two parts and the second part is a digit\n",
    "                scaffold_number = int(parts[1])  # Convert the scaffold number to an integer\n",
    "                if start_scaffold <= scaffold_number <= end_scaffold:  # Check if the scaffold number is in the specified range\n",
    "                    extracted_contigs.append(record)  # Add the record to the list of extracted contigs\n",
    "\n",
    "# Save the extracted contigs to a new FASTA file\n",
    "with open(output_fasta, \"w\") as outfile:\n",
    "    SeqIO.write(extracted_contigs, outfile, \"fasta\")  # Write the sequences to the output file in FASTA format\n",
    "\n",
    "print(f\">Super-Scaffold_1 to >Super-Scaffold_{end_scaffold} have been saved to {output_fasta}.\")"
   ]
  }
 ],
 "metadata": {
  "kernelspec": {
   "display_name": "py_env",
   "language": "python",
   "name": "python3"
  },
  "language_info": {
   "codemirror_mode": {
    "name": "ipython",
    "version": 3
   },
   "file_extension": ".py",
   "mimetype": "text/x-python",
   "name": "python",
   "nbconvert_exporter": "python",
   "pygments_lexer": "ipython3",
   "version": "3.12.4"
  }
 },
 "nbformat": 4,
 "nbformat_minor": 2
}
